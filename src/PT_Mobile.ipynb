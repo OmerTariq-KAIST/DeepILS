{
 "cells": [
  {
   "cell_type": "markdown",
   "metadata": {},
   "source": [
    "Change to Tensorflow:V1 Environment "
   ]
  },
  {
   "cell_type": "code",
   "execution_count": 2,
   "metadata": {},
   "outputs": [
    {
     "name": "stderr",
     "output_type": "stream",
     "text": [
      "/home/u22/anaconda3/envs/tf_env/lib/python3.10/site-packages/tensorflow_addons/utils/tfa_eol_msg.py:23: UserWarning: \n",
      "\n",
      "TensorFlow Addons (TFA) has ended development and introduction of new features.\n",
      "TFA has entered a minimal maintenance and release mode until a planned end of life in May 2024.\n",
      "Please modify downstream libraries to take dependencies from other repositories in our TensorFlow community (e.g. Keras, Keras-CV, and Keras-NLP). \n",
      "\n",
      "For more information see: https://github.com/tensorflow/addons/issues/2807 \n",
      "\n",
      "  warnings.warn(\n"
     ]
    }
   ],
   "source": [
    "import tensorflow as tf\n",
    "import onnx\n",
    "from onnx_tf.backend import prepare\n",
    "import quaternion\n",
    "import pandas\n",
    "import numpy as np\n",
    "import matplotlib.pyplot as plt\n",
    "from metric import compute_ate_rte\n",
    "from onnx import helper\n",
    "import time\n"
   ]
  },
  {
   "cell_type": "code",
   "execution_count": 3,
   "metadata": {},
   "outputs": [],
   "source": [
    "def convert_onnx_tflite (onnx_path , tflite_path , graph_path):\n",
    "    model = onnx.load(onnx_path)\n",
    "\n",
    "    # modified code\n",
    "\n",
    "    # Define a mapping from old names to new names\n",
    "    name_map = {\"input.1\": \"input_1\"}\n",
    "\n",
    "    # Initialize a list to hold the new inputs\n",
    "    new_inputs = []\n",
    "\n",
    "    # Iterate over the inputs and change their names if needed\n",
    "    for inp in model.graph.input:\n",
    "        if inp.name in name_map:\n",
    "            # Create a new ValueInfoProto with the new name\n",
    "            new_inp = helper.make_tensor_value_info(name_map[inp.name],\n",
    "                                                    inp.type.tensor_type.elem_type,\n",
    "                                                    [dim.dim_value for dim in inp.type.tensor_type.shape.dim])\n",
    "            new_inputs.append(new_inp)\n",
    "        else:\n",
    "            new_inputs.append(inp)\n",
    "\n",
    "    # Clear the old inputs and add the new ones\n",
    "    model.graph.ClearField(\"input\")\n",
    "    model.graph.input.extend(new_inputs)\n",
    "\n",
    "    # Go through all nodes in the model and replace the old input name with the new one\n",
    "    for node in model.graph.node:\n",
    "        for i, input_name in enumerate(node.input):\n",
    "            if input_name in name_map:\n",
    "                node.input[i] = name_map[input_name]\n",
    "\n",
    "    # Save the renamed ONNX model\n",
    "    onnx.save(model, 'new_model.onnx')\n",
    "    \n",
    "    tf_rep = prepare(model)\n",
    "\n",
    "    \n",
    "    tf_rep.export_graph(graph_path)\n",
    "   \n",
    "    converter = tf.lite.TFLiteConverter.from_saved_model(graph_path)\n",
    "    \n",
    "    converter.target_spec.supported_ops = [tf.lite.OpsSet.TFLITE_BUILTINS,\n",
    "                                       tf.lite.OpsSet.SELECT_TF_OPS]      \n",
    "    # tell converter which type of optimization techniques to use\n",
    "    converter.optimizations = [tf.lite.Optimize.DEFAULT]\n",
    "    tfmodel = converter.convert() \n",
    "    \n",
    "    # Save the model.\n",
    "    with open(tflite_path, 'wb') as f:\n",
    "      f.write(tfmodel)\n",
    "    \n",
    "    return tfmodel\n"
   ]
  }
 ],
 "metadata": {
  "kernelspec": {
   "display_name": "tf_env",
   "language": "python",
   "name": "python3"
  },
  "language_info": {
   "codemirror_mode": {
    "name": "ipython",
    "version": 3
   },
   "file_extension": ".py",
   "mimetype": "text/x-python",
   "name": "python",
   "nbconvert_exporter": "python",
   "pygments_lexer": "ipython3",
   "version": "3.10.13"
  }
 },
 "nbformat": 4,
 "nbformat_minor": 2
}
